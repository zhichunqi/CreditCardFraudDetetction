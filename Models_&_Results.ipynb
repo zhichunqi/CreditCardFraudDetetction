{
  "nbformat": 4,
  "nbformat_minor": 0,
  "metadata": {
    "colab": {
      "name": "Models & Results.ipynb",
      "provenance": [],
      "toc_visible": true
    },
    "kernelspec": {
      "display_name": "Python 3",
      "name": "python3"
    },
    "language_info": {
      "name": "python"
    }
  },
  "cells": [
    {
      "cell_type": "code",
      "metadata": {
        "id": "RV7f4A1Fp6c0"
      },
      "source": [
        "from google.colab import drive\n",
        "import sys\n",
        "import pandas as pd\n",
        "import numpy as np\n",
        "\n",
        "import seaborn as sns\n",
        "import matplotlib.pyplot as plt\n",
        "import plotly.express as px\n",
        "import warnings\n",
        "\n",
        "from sklearn.model_selection import train_test_split\n",
        "\n",
        "from sklearn.linear_model import LogisticRegression\n",
        "from sklearn.ensemble import GradientBoostingClassifier\n",
        "from sklearn.ensemble import RandomForestClassifier\n",
        "from sklearn.model_selection import RandomizedSearchCV\n",
        "\n",
        "from sklearn.metrics import classification_report\n",
        "from sklearn.model_selection import KFold\n",
        "\n",
        "import xgboost as xgb\n",
        "from xgboost import XGBClassifier\n",
        "from sklearn.model_selection import GridSearchCV\n",
        "\n",
        "from sklearn.preprocessing import label_binarize\n",
        "from sklearn.multiclass import OneVsRestClassifier\n",
        "from scipy import interp\n",
        "from sklearn.metrics import roc_curve, auc\n",
        "from sklearn.metrics import roc_auc_score\n",
        "from sklearn.metrics import precision_recall_curve\n",
        "from sklearn.metrics import accuracy_score,precision_score, recall_score, f1_score,confusion_matrix \n"
      ],
      "execution_count": 62,
      "outputs": []
    },
    {
      "cell_type": "markdown",
      "metadata": {
        "id": "cFt-8MUKp7y6"
      },
      "source": [
        "# **Load data**"
      ]
    },
    {
      "cell_type": "code",
      "metadata": {
        "colab": {
          "base_uri": "https://localhost:8080/"
        },
        "id": "AzAgGJGIGTk2",
        "outputId": "dc4cc5dc-d7fd-4857-e63e-494b564bdb9e"
      },
      "source": [
        "# Mount Google Drive\n",
        "drive.mount('/content/drive')\n",
        "\n",
        "# Get the absolute path of the current folder\n",
        "abspath_curr = '/content/drive/My Drive/'"
      ],
      "execution_count": null,
      "outputs": [
        {
          "name": "stdout",
          "output_type": "stream",
          "text": [
            "Mounted at /content/drive\n"
          ]
        }
      ]
    },
    {
      "cell_type": "code",
      "metadata": {
        "colab": {
          "base_uri": "https://localhost:8080/"
        },
        "id": "Nl1RjPA8G_rF",
        "outputId": "cc500525-3aea-4280-829d-1c2801262f8d"
      },
      "source": [
        "credit_transactions=pd.read_csv(abspath_curr+'df_data.csv',index_col=[0])\n",
        "credit_transactions.info()"
      ],
      "execution_count": null,
      "outputs": [
        {
          "name": "stdout",
          "output_type": "stream",
          "text": [
            "<class 'pandas.core.frame.DataFrame'>\n",
            "Int64Index: 31406 entries, 0 to 786112\n",
            "Data columns (total 9 columns):\n",
            " #   Column                    Non-Null Count  Dtype  \n",
            "---  ------                    --------------  -----  \n",
            " 0   Categ_country             31318 non-null  float64\n",
            " 1   Categ_merchant            21922 non-null  float64\n",
            " 2   creditLimit               31406 non-null  float64\n",
            " 3   availableMoney            31406 non-null  float64\n",
            " 4   CVVinMatch                31406 non-null  int64  \n",
            " 5   transactionAmount         31406 non-null  float64\n",
            " 6   cardPresent               31406 non-null  int64  \n",
            " 7   expirationDateKeyInMatch  31406 non-null  int64  \n",
            " 8   isFraud                   31406 non-null  int64  \n",
            "dtypes: float64(5), int64(4)\n",
            "memory usage: 2.4 MB\n"
          ]
        }
      ]
    },
    {
      "cell_type": "code",
      "metadata": {
        "id": "h3muxiDInP3G"
      },
      "source": [
        "credit_transactions.fillna(0, inplace=True)"
      ],
      "execution_count": null,
      "outputs": []
    },
    {
      "cell_type": "code",
      "metadata": {
        "colab": {
          "base_uri": "https://localhost:8080/"
        },
        "id": "iZCGUBcx54lF",
        "outputId": "8a3bd971-1553-4a8c-f78b-2979fa9808ba"
      },
      "source": [
        "credit_transactions.isFraud.value_counts()"
      ],
      "execution_count": null,
      "outputs": [
        {
          "data": {
            "text/plain": [
              "0    21189\n",
              "1    10217\n",
              "Name: isFraud, dtype: int64"
            ]
          },
          "execution_count": 6,
          "metadata": {},
          "output_type": "execute_result"
        }
      ]
    },
    {
      "cell_type": "markdown",
      "metadata": {
        "id": "erR6aLSSq8d_"
      },
      "source": [
        "# **Split Data Into Training And Testing Datasets**"
      ]
    },
    {
      "cell_type": "code",
      "metadata": {
        "id": "XcsX7qd5Jfq6"
      },
      "source": [
        "def train_test_data(df):\n",
        "    q=df.shape[1]\n",
        "    X=df.iloc[:,1:(q-1)]\n",
        "    y=df.iloc[:,(q-1)]\n",
        "    X_train, X_test, y_train, y_test = train_test_split(X, y, test_size=0.30, random_state=42)\n",
        "    return X_train, X_test, y_train, y_test"
      ],
      "execution_count": null,
      "outputs": []
    },
    {
      "cell_type": "code",
      "metadata": {
        "id": "bIFJa730JiN5"
      },
      "source": [
        "X_train, X_test, y_train, y_test = train_test_data(credit_transactions)"
      ],
      "execution_count": null,
      "outputs": []
    },
    {
      "cell_type": "code",
      "metadata": {
        "colab": {
          "base_uri": "https://localhost:8080/"
        },
        "id": "mtaMdHDBJkq6",
        "outputId": "9b1cc2df-0b6b-41b1-a9b9-cd284422d3ad"
      },
      "source": [
        "# Number of fraud cases in training dataset\n",
        "y_train.sum()"
      ],
      "execution_count": null,
      "outputs": [
        {
          "data": {
            "text/plain": [
              "7172"
            ]
          },
          "execution_count": 9,
          "metadata": {},
          "output_type": "execute_result"
        }
      ]
    },
    {
      "cell_type": "code",
      "metadata": {
        "colab": {
          "base_uri": "https://localhost:8080/"
        },
        "id": "L5OI7NOUJnEq",
        "outputId": "40b1209a-5c48-496f-9ff6-720272875a45"
      },
      "source": [
        "#Number of fraud cases in training dataset\n",
        "y_test.sum()"
      ],
      "execution_count": null,
      "outputs": [
        {
          "data": {
            "text/plain": [
              "3045"
            ]
          },
          "execution_count": 10,
          "metadata": {},
          "output_type": "execute_result"
        }
      ]
    },
    {
      "cell_type": "markdown",
      "metadata": {
        "id": "ZBzTNWo7sN5j"
      },
      "source": [
        "# **Modeling**"
      ]
    },
    {
      "cell_type": "markdown",
      "metadata": {
        "id": "KaCEluqgsc6y"
      },
      "source": [
        "##**Logistic Regression Model**"
      ]
    },
    {
      "cell_type": "code",
      "metadata": {
        "id": "7lt94erxriGZ",
        "colab": {
          "base_uri": "https://localhost:8080/"
        },
        "outputId": "208936eb-681c-4b58-abcf-f63b3d3a2daf"
      },
      "source": [
        "lr_model = LogisticRegression()\n",
        "lr_model.fit(X_train, y_train)"
      ],
      "execution_count": 41,
      "outputs": [
        {
          "output_type": "execute_result",
          "data": {
            "text/plain": [
              "LogisticRegression(C=1.0, class_weight=None, dual=False, fit_intercept=True,\n",
              "                   intercept_scaling=1, l1_ratio=None, max_iter=100,\n",
              "                   multi_class='auto', n_jobs=None, penalty='l2',\n",
              "                   random_state=None, solver='lbfgs', tol=0.0001, verbose=0,\n",
              "                   warm_start=False)"
            ]
          },
          "metadata": {},
          "execution_count": 41
        }
      ]
    },
    {
      "cell_type": "code",
      "metadata": {
        "id": "hy_dTG9VsorF"
      },
      "source": [
        "lr_predictions = pd.Series(model.predict(X_test))\n",
        "#y_test = y_test.reset_index(drop=True)\n",
        "#z = pd.concat([y_test, y_pred], axis=1)\n",
        "#z.columns = ['True', 'Prediction']\n",
        "#z.head()"
      ],
      "execution_count": 42,
      "outputs": []
    },
    {
      "cell_type": "code",
      "metadata": {
        "colab": {
          "base_uri": "https://localhost:8080/",
          "height": 285
        },
        "id": "VfRVk-vn6wEp",
        "outputId": "1ea6e694-6ac7-4fc2-a47b-6aa80ae84776"
      },
      "source": [
        "# Visualize confusion matrix with seaborn heatmap\n",
        "lr_cm=confusion_matrix(y_test, lr_predictions)\n",
        "lr_matrix = pd.DataFrame(data=lr_cm, columns=['Predict Positive:0', 'Predict Negative:1'], index=['Actual Positive:0', 'Actual Negative:1'])\n",
        "sns.heatmap(lr_matrix, annot=True, fmt='d', cmap='YlGnBu')\n"
      ],
      "execution_count": 44,
      "outputs": [
        {
          "output_type": "execute_result",
          "data": {
            "text/plain": [
              "<matplotlib.axes._subplots.AxesSubplot at 0x7faff9030490>"
            ]
          },
          "metadata": {},
          "execution_count": 44
        },
        {
          "output_type": "display_data",
          "data": {
            "image/png": "[encoded data removed]",
            "text/plain": [
              "<Figure size 432x288 with 2 Axes>"
            ]
          },
          "metadata": {}
        }
      ]
    },
    {
      "cell_type": "code",
      "metadata": {
        "colab": {
          "base_uri": "https://localhost:8080/"
        },
        "id": "PIUF-xOk66kd",
        "outputId": "c6290f99-9728-4181-e8f7-b238800f03a8"
      },
      "source": [
        "# Model Accuracy\n",
        "print(\"Accuracy:\",round(accuracy_score(y_test, lr_predictions),4))"
      ],
      "execution_count": 45,
      "outputs": [
        {
          "output_type": "stream",
          "name": "stdout",
          "text": [
            "Accuracy: 0.7084\n"
          ]
        }
      ]
    },
    {
      "cell_type": "code",
      "metadata": {
        "colab": {
          "base_uri": "https://localhost:8080/"
        },
        "id": "zFXiZiay6-6r",
        "outputId": "7db4ad0d-77d4-41e3-c53a-5d9a6f309d1e"
      },
      "source": [
        "# Precision Score on the test data\n",
        "print(\"Precision Score:\",round(precision_score(y_test, lr_predictions),4))"
      ],
      "execution_count": 46,
      "outputs": [
        {
          "output_type": "stream",
          "name": "stdout",
          "text": [
            "Precision Score: 0.5698\n"
          ]
        }
      ]
    },
    {
      "cell_type": "code",
      "metadata": {
        "colab": {
          "base_uri": "https://localhost:8080/"
        },
        "id": "RPiGtS967GtJ",
        "outputId": "28b62f6b-f80e-4c2f-9658-bdc80c8f944e"
      },
      "source": [
        "# Precision Score on the test data\n",
        "print(\"F-1 Score:\",round(f1_score(y_test, lr_predictions),4))"
      ],
      "execution_count": 47,
      "outputs": [
        {
          "output_type": "stream",
          "name": "stdout",
          "text": [
            "F-1 Score: 0.4698\n"
          ]
        }
      ]
    },
    {
      "cell_type": "markdown",
      "metadata": {
        "id": "BTL_H3S7sZzR"
      },
      "source": [
        "##***Gradient Boosting Model***\n",
        "\n",
        "\n",
        "\n",
        "\n",
        "\n",
        "\n",
        "\n",
        "\n",
        "\n",
        "\n",
        "\n"
      ]
    },
    {
      "cell_type": "code",
      "metadata": {
        "id": "XZ13OCUazL1x"
      },
      "source": [
        "# Bulid the gradient boosting model and define the parameters\n",
        "gb_model = GradientBoostingClassifier(n_estimators=800, \n",
        "                                 learning_rate=0.01,\n",
        "                                 max_depth=6, \n",
        "                                 random_state=42)\n",
        "\n",
        "#kf = KFold(n_splits=5,random_state=42,shuffle=True)"
      ],
      "execution_count": null,
      "outputs": []
    },
    {
      "cell_type": "code",
      "metadata": {
        "colab": {
          "base_uri": "https://localhost:8080/"
        },
        "id": "xrE6sDAd0RaG",
        "outputId": "9a52a02f-75a8-4804-ff30-a83615639669"
      },
      "source": [
        "# Fit the gradient boosting model and give the report\n",
        "gb_model.fit(X_train,y_train)\n",
        "print(classification_report(y_test,gb_model.predict(X_test)))"
      ],
      "execution_count": null,
      "outputs": [
        {
          "name": "stdout",
          "output_type": "stream",
          "text": [
            "              precision    recall  f1-score   support\n",
            "\n",
            "           0       0.75      0.87      0.80      6377\n",
            "           1       0.58      0.39      0.47      3045\n",
            "\n",
            "    accuracy                           0.71      9422\n",
            "   macro avg       0.66      0.63      0.63      9422\n",
            "weighted avg       0.69      0.71      0.69      9422\n",
            "\n"
          ]
        }
      ]
    },
    {
      "cell_type": "code",
      "metadata": {
        "id": "ZCsON6sw04Dc"
      },
      "source": [
        "# Take predictions on the test data\n",
        "gb_predictions = gb_model.predict(X_test)"
      ],
      "execution_count": null,
      "outputs": []
    },
    {
      "cell_type": "code",
      "metadata": {
        "colab": {
          "base_uri": "https://localhost:8080/",
          "height": 282
        },
        "id": "YKPEBjC_xgyL",
        "outputId": "fa9d7c03-13a8-49dc-aee7-7834fce6f54b"
      },
      "source": [
        "# Visualize confusion matrix with seaborn heatmap\n",
        "gb_cm=confusion_matrix(y_test, gb_predictions)\n",
        "gb_matrix = pd.DataFrame(data=gb_cm, columns=['Predict Positive:0', 'Predict Negative:1'], index=['Actual Positive:0', 'Actual Negative:1'])\n",
        "sns.heatmap(gb_matrix, annot=True, fmt='d', cmap='YlGnBu')\n"
      ],
      "execution_count": null,
      "outputs": [
        {
          "data": {
            "text/plain": [
              "<matplotlib.axes._subplots.AxesSubplot at 0x7faffb9c7950>"
            ]
          },
          "execution_count": 16,
          "metadata": {},
          "output_type": "execute_result"
        },
        {
          "data": {
            "image/png": "[encoded data removed]",
            "text/plain": [
              "<Figure size 432x288 with 2 Axes>"
            ]
          },
          "metadata": {},
          "output_type": "display_data"
        }
      ]
    },
    {
      "cell_type": "code",
      "metadata": {
        "colab": {
          "base_uri": "https://localhost:8080/"
        },
        "id": "HM7QfdJO2x72",
        "outputId": "9c343acf-e53c-4f10-d10a-bdbdb5506065"
      },
      "source": [
        "# Model Accuracy\n",
        "print(\"Accuracy:\",round(accuracy_score(y_test, gb_predictions),4))"
      ],
      "execution_count": null,
      "outputs": [
        {
          "name": "stdout",
          "output_type": "stream",
          "text": [
            "Accuracy: 0.7116\n"
          ]
        }
      ]
    },
    {
      "cell_type": "code",
      "metadata": {
        "colab": {
          "base_uri": "https://localhost:8080/"
        },
        "id": "u36RfZxE22oo",
        "outputId": "a10a8091-07bd-47d5-bf03-a8ed0707d8c5"
      },
      "source": [
        "# Precision Score on the test data\n",
        "print(\"Precision Score:\",round(precision_score(y_test, gb_predictions),4))"
      ],
      "execution_count": null,
      "outputs": [
        {
          "name": "stdout",
          "output_type": "stream",
          "text": [
            "Precision Score: 0.5804\n"
          ]
        }
      ]
    },
    {
      "cell_type": "code",
      "metadata": {
        "colab": {
          "base_uri": "https://localhost:8080/"
        },
        "id": "kwCDMeoF3FiX",
        "outputId": "5b332e24-40eb-4445-ae34-6dcd6ad03838"
      },
      "source": [
        "# Precision Score on the test data\n",
        "print(\"F-1 Score:\",round(f1_score(y_test, gb_predictions),4))"
      ],
      "execution_count": null,
      "outputs": [
        {
          "name": "stdout",
          "output_type": "stream",
          "text": [
            "F-1 Score: 0.4657\n"
          ]
        }
      ]
    },
    {
      "cell_type": "markdown",
      "metadata": {
        "id": "2qTyRTV7pXLW"
      },
      "source": [
        "##**XGBoosting Model**"
      ]
    },
    {
      "cell_type": "code",
      "metadata": {
        "id": "drYaitUFx3P-"
      },
      "source": [
        "estimator = xgb.XGBClassifier(\n",
        "    objective= 'binary:logistic',\n",
        "    nthread=4,\n",
        "    seed=123\n",
        ")"
      ],
      "execution_count": null,
      "outputs": []
    },
    {
      "cell_type": "code",
      "metadata": {
        "id": "fj_qLw1gx7b7"
      },
      "source": [
        "parameters=  { 'max_depth': range (5, 11,4),\n",
        "    'n_estimators': range(800, 1000, 50),\n",
        "    'learning_rate': [0.1, 0.01, 0.001]}"
      ],
      "execution_count": null,
      "outputs": []
    },
    {
      "cell_type": "code",
      "metadata": {
        "id": "QNfAhhp_x-8Q"
      },
      "source": [
        "grid_search = GridSearchCV(\n",
        "    estimator=estimator,\n",
        "    param_grid=parameters,\n",
        "    scoring='f1',\n",
        "    n_jobs = 10,\n",
        "    cv = 4,\n",
        "    verbose=True\n",
        ")"
      ],
      "execution_count": null,
      "outputs": []
    },
    {
      "cell_type": "code",
      "metadata": {
        "colab": {
          "background_save": true,
          "base_uri": "https://localhost:8080/"
        },
        "id": "HcFst59LyCoZ",
        "outputId": "ee6d42d9-edfc-4b98-d800-ce3b2a97f3a7"
      },
      "source": [
        "grid_search.fit(X_train, y_train)"
      ],
      "execution_count": null,
      "outputs": [
        {
          "name": "stdout",
          "output_type": "stream",
          "text": [
            "Fitting 4 folds for each of 24 candidates, totalling 96 fits\n"
          ]
        },
        {
          "name": "stderr",
          "output_type": "stream",
          "text": [
            "[Parallel(n_jobs=10)]: Using backend LokyBackend with 10 concurrent workers.\n",
            "[Parallel(n_jobs=10)]: Done  30 tasks      | elapsed:  7.0min\n",
            "[Parallel(n_jobs=10)]: Done  96 out of  96 | elapsed: 21.3min finished\n"
          ]
        },
        {
          "data": {
            "text/plain": [
              "GridSearchCV(cv=4, error_score=nan,\n",
              "             estimator=XGBClassifier(base_score=0.5, booster='gbtree',\n",
              "                                     colsample_bylevel=1, colsample_bynode=1,\n",
              "                                     colsample_bytree=1, gamma=0,\n",
              "                                     learning_rate=0.1, max_delta_step=0,\n",
              "                                     max_depth=3, min_child_weight=1,\n",
              "                                     missing=None, n_estimators=100, n_jobs=1,\n",
              "                                     nthread=4, objective='binary:logistic',\n",
              "                                     random_state=0, reg_alpha=0, reg_lambda=1,\n",
              "                                     scale_pos_weight=1, seed=123, silent=None,\n",
              "                                     subsample=1, verbosity=1),\n",
              "             iid='deprecated', n_jobs=10,\n",
              "             param_grid={'learning_rate': [0.1, 0.01, 0.001],\n",
              "                         'max_depth': range(5, 11, 4),\n",
              "                         'n_estimators': range(800, 1000, 50)},\n",
              "             pre_dispatch='2*n_jobs', refit=True, return_train_score=False,\n",
              "             scoring='f1', verbose=True)"
            ]
          },
          "execution_count": null,
          "metadata": {},
          "output_type": "execute_result"
        }
      ]
    },
    {
      "cell_type": "code",
      "metadata": {
        "colab": {
          "base_uri": "https://localhost:8080/"
        },
        "id": "BqMdgDSeyH5D",
        "outputId": "b92e5557-8dbf-458a-cd59-8c4abded6e50"
      },
      "source": [
        "grid_search.best_estimator_\\\\\n"
      ],
      "execution_count": 24,
      "outputs": [
        {
          "output_type": "execute_result",
          "data": {
            "text/plain": [
              "XGBClassifier(base_score=0.5, booster='gbtree', colsample_bylevel=1,\n",
              "              colsample_bynode=1, colsample_bytree=1, gamma=0,\n",
              "              learning_rate=0.01, max_delta_step=0, max_depth=5,\n",
              "              min_child_weight=1, missing=None, n_estimators=850, n_jobs=1,\n",
              "              nthread=4, objective='binary:logistic', random_state=0,\n",
              "              reg_alpha=0, reg_lambda=1, scale_pos_weight=1, seed=123,\n",
              "              silent=None, subsample=1, verbosity=1)"
            ]
          },
          "metadata": {},
          "execution_count": 24
        }
      ]
    },
    {
      "cell_type": "code",
      "metadata": {
        "id": "6jZpeuMEyL3H"
      },
      "source": [
        "xgb_model = xgb.XGBClassifier(base_score=0.5, booster='gbtree', colsample_bylevel=1,\n",
        "              colsample_bynode=1, colsample_bytree=1, gamma=0,\n",
        "              learning_rate=0.001, max_delta_step=0, max_depth=5,\n",
        "              min_child_weight=1, missing=None, n_estimators=800, n_jobs=1,\n",
        "              nthread=4, objective='binary:logistic', random_state=0,\n",
        "              reg_alpha=0, reg_lambda=1, scale_pos_weight=1, seed=123,\n",
        "              silent=None, subsample=1, verbosity=1)"
      ],
      "execution_count": 25,
      "outputs": []
    },
    {
      "cell_type": "code",
      "metadata": {
        "id": "TAj33-eVyQWg"
      },
      "source": [
        "#Fit the model\n",
        "xgb_model.fit(X_train,y_train)\n",
        "\n",
        "#Predict the model\n",
        "xgb_predictions = xgb_model.predict(X_test)"
      ],
      "execution_count": 26,
      "outputs": []
    },
    {
      "cell_type": "code",
      "metadata": {
        "colab": {
          "base_uri": "https://localhost:8080/",
          "height": 285
        },
        "id": "lZMNQJk0yVvo",
        "outputId": "e207870e-7c77-4e4b-9f4b-58fa4e5fce3b"
      },
      "source": [
        "# visualize confusion matrix with seaborn heatmap\n",
        "xgb_cm=confusion_matrix(y_test, xgb_predictions)\n",
        "\n",
        "xgb_matrix = pd.DataFrame(data=xgb_cm, columns=['Predict Positive:0', 'Predict Negative:1'], index=['Actual Positive:0', 'Actual Negative:1'])\n",
        "sns.heatmap(xgb_matrix, annot=True, fmt='d', cmap='YlGnBu')\n"
      ],
      "execution_count": 72,
      "outputs": [
        {
          "output_type": "execute_result",
          "data": {
            "text/plain": [
              "<matplotlib.axes._subplots.AxesSubplot at 0x7faff27a1110>"
            ]
          },
          "metadata": {},
          "execution_count": 72
        },
        {
          "output_type": "display_data",
          "data": {
            "image/png": "[encoded data removed]",
            "text/plain": [
              "<Figure size 432x288 with 2 Axes>"
            ]
          },
          "metadata": {}
        }
      ]
    },
    {
      "cell_type": "code",
      "metadata": {
        "colab": {
          "base_uri": "https://localhost:8080/"
        },
        "id": "DLKJqHbKybq0",
        "outputId": "a7334a8d-d8f2-45ec-9d53-8f95d72634f2"
      },
      "source": [
        "# check precision rate score on validation data\n",
        "print(\"Accuracy:\",round(accuracy_score(y_test, xgb_predictions),4))"
      ],
      "execution_count": 28,
      "outputs": [
        {
          "output_type": "stream",
          "name": "stdout",
          "text": [
            "Accuracy: 0.7092\n"
          ]
        }
      ]
    },
    {
      "cell_type": "code",
      "metadata": {
        "colab": {
          "base_uri": "https://localhost:8080/"
        },
        "id": "9ETp1FAkyfLi",
        "outputId": "845563c4-2b74-4901-cd36-cef67f582e51"
      },
      "source": [
        "# check precision rate score on validation data\n",
        "print(\"Precision Score:\",round(precision_score(y_test, xgb_predictions),4))"
      ],
      "execution_count": 29,
      "outputs": [
        {
          "output_type": "stream",
          "name": "stdout",
          "text": [
            "Precision Score: 0.5792\n"
          ]
        }
      ]
    },
    {
      "cell_type": "code",
      "metadata": {
        "colab": {
          "base_uri": "https://localhost:8080/"
        },
        "id": "F5SJHuyZyj6g",
        "outputId": "687dcc30-7b2d-48b8-d204-9f14524f3453"
      },
      "source": [
        "# check precision rate score on validation data\n",
        "print(\"F-1 Score:\",round(f1_score(y_test, xgb_predictions),4))"
      ],
      "execution_count": 30,
      "outputs": [
        {
          "output_type": "stream",
          "name": "stdout",
          "text": [
            "F-1 Score: 0.4487\n"
          ]
        }
      ]
    },
    {
      "cell_type": "markdown",
      "metadata": {
        "id": "Ao6IUsWXwWm8"
      },
      "source": [
        "## **Random Forest**"
      ]
    },
    {
      "cell_type": "code",
      "metadata": {
        "id": "kuw60ZeAKIlK"
      },
      "source": [
        "model_params = {'n_estimators':range(650,850,50),\n",
        "    'max_depth': range(8,14),\n",
        "    'min_samples_split':range(12,20)}"
      ],
      "execution_count": 32,
      "outputs": []
    },
    {
      "cell_type": "code",
      "metadata": {
        "colab": {
          "base_uri": "https://localhost:8080/"
        },
        "id": "HLfJ4t6jJzbr",
        "outputId": "017309e4-9b57-4daa-f9fc-85c9ee2a7b9a"
      },
      "source": [
        "# create random forest classifier model\n",
        "rf_model = RandomForestClassifier()\n",
        "\n",
        "# set up random search meta-estimator\n",
        "# this will train 50 models over 4 folds of cross validation (200 models total)\n",
        "rf_cv = RandomizedSearchCV(rf_model, model_params, n_iter=20, cv=4, scoring='f1',random_state=43)\n",
        "\n",
        "# train the random search meta-estimator to find the best model out of 100 candidates\n",
        "model = rf_cv.fit(X_train, y_train)\n",
        "\n",
        "model.best_estimator_"
      ],
      "execution_count": 33,
      "outputs": [
        {
          "output_type": "execute_result",
          "data": {
            "text/plain": [
              "RandomForestClassifier(bootstrap=True, ccp_alpha=0.0, class_weight=None,\n",
              "                       criterion='gini', max_depth=13, max_features='auto',\n",
              "                       max_leaf_nodes=None, max_samples=None,\n",
              "                       min_impurity_decrease=0.0, min_impurity_split=None,\n",
              "                       min_samples_leaf=1, min_samples_split=15,\n",
              "                       min_weight_fraction_leaf=0.0, n_estimators=800,\n",
              "                       n_jobs=None, oob_score=False, random_state=None,\n",
              "                       verbose=0, warm_start=False)"
            ]
          },
          "metadata": {},
          "execution_count": 33
        }
      ]
    },
    {
      "cell_type": "code",
      "metadata": {
        "id": "EoCbsggh0hsM"
      },
      "source": [
        "rf_model_para=RandomForestClassifier(bootstrap=True, ccp_alpha=0.0, class_weight=None,\n",
        "                       criterion='gini', max_depth=13, max_features='auto',\n",
        "                       max_leaf_nodes=None, max_samples=None,\n",
        "                       min_impurity_decrease=0.0, min_impurity_split=None,\n",
        "                       min_samples_leaf=1, min_samples_split=15,\n",
        "                       min_weight_fraction_leaf=0.0, n_estimators=800,\n",
        "                       n_jobs=None, oob_score=False, random_state=None,\n",
        "                       verbose=0, warm_start=False)\n",
        "\n",
        "#Train the model using the training sets y_pred=clf.predict(X_test)\n",
        "rf_model_para.fit(X_train,y_train)\n",
        "\n",
        "rf_predictions=rf_model_para.predict(X_test)"
      ],
      "execution_count": 34,
      "outputs": []
    },
    {
      "cell_type": "code",
      "metadata": {
        "colab": {
          "base_uri": "https://localhost:8080/",
          "height": 285
        },
        "id": "gi0PTaOX07Qs",
        "outputId": "e28d63d5-694d-454e-ca7c-8cb25d998505"
      },
      "source": [
        "# visualize confusion matrix with seaborn heatmap\n",
        "rf_cm=confusion_matrix(y_test, rf_predictions)\n",
        "rf_matrix = pd.DataFrame(data=rf_cm, columns=['Predict Positive:0', 'Predict Negative:1'], index=['Actual Positive:0', 'Actual Negative:1'])\n",
        "sns.heatmap(rf_matrix, annot=True, fmt='d', cmap='YlGnBu')\n"
      ],
      "execution_count": 35,
      "outputs": [
        {
          "output_type": "execute_result",
          "data": {
            "text/plain": [
              "<matplotlib.axes._subplots.AxesSubplot at 0x7faff91e8050>"
            ]
          },
          "metadata": {},
          "execution_count": 35
        },
        {
          "output_type": "display_data",
          "data": {
            "image/png": "[encoded data removed]",
            "text/plain": [
              "<Figure size 432x288 with 2 Axes>"
            ]
          },
          "metadata": {}
        }
      ]
    },
    {
      "cell_type": "code",
      "metadata": {
        "colab": {
          "base_uri": "https://localhost:8080/"
        },
        "id": "rB6L6gUq1C9T",
        "outputId": "df9fa919-cc32-40cc-b139-d38d940c99c7"
      },
      "source": [
        "# Model Accuracy, how often is the classifier correct?\n",
        "print(\"Accuracy:\",round(accuracy_score(y_test, rf_predictions),4))"
      ],
      "execution_count": 36,
      "outputs": [
        {
          "output_type": "stream",
          "name": "stdout",
          "text": [
            "Accuracy: 0.7089\n"
          ]
        }
      ]
    },
    {
      "cell_type": "code",
      "metadata": {
        "colab": {
          "base_uri": "https://localhost:8080/"
        },
        "id": "wS1LNAhy1Yag",
        "outputId": "fda5c8f6-d554-4d56-946e-1c5c804266fc"
      },
      "source": [
        "# Precision score on the test data\n",
        "print(\"Precision Score:\",round(precision_score(y_test,rf_predictions ),4))"
      ],
      "execution_count": 37,
      "outputs": [
        {
          "output_type": "stream",
          "name": "stdout",
          "text": [
            "Precision Score: 0.5709\n"
          ]
        }
      ]
    },
    {
      "cell_type": "code",
      "metadata": {
        "colab": {
          "base_uri": "https://localhost:8080/"
        },
        "id": "PtSBwA471bCj",
        "outputId": "417d446d-448e-424a-e8cd-ea58b60affa1"
      },
      "source": [
        "# Precision score on the test data\n",
        "print(\"F-1 Score:\",round(f1_score(y_test, rf_predictions),4))"
      ],
      "execution_count": 38,
      "outputs": [
        {
          "output_type": "stream",
          "name": "stdout",
          "text": [
            "F-1 Score: 0.47\n"
          ]
        }
      ]
    },
    {
      "cell_type": "code",
      "metadata": {
        "colab": {
          "base_uri": "https://localhost:8080/",
          "height": 535
        },
        "id": "yKAqVpcWypw5",
        "outputId": "e84ca25e-1bf4-451c-db40-0708f35a1508"
      },
      "source": [
        "plt.figure(figsize=(14,8))\n",
        "plt.title('Feature Importance Random Forest')\n",
        "sns.set()\n",
        "sorted_idx = rf_model_para.feature_importances_.argsort()\n",
        "plt.barh(X_train.columns[sorted_idx], rf_model_para.feature_importances_[sorted_idx])\n",
        "plt.xlabel(\"Random Forest Feature Importance\")"
      ],
      "execution_count": 71,
      "outputs": [
        {
          "output_type": "execute_result",
          "data": {
            "text/plain": [
              "Text(0.5, 0, 'Random Forest Feature Importance')"
            ]
          },
          "metadata": {},
          "execution_count": 71
        },
        {
          "output_type": "display_data",
          "data": {
            "image/png": "[encoded data removed]",
            "text/plain": [
              "<Figure size 1008x576 with 1 Axes>"
            ]
          },
          "metadata": {}
        }
      ]
    },
    {
      "cell_type": "markdown",
      "metadata": {
        "id": "pX6h-Vt6AMSK"
      },
      "source": [
        "##ROC Curve"
      ]
    },
    {
      "cell_type": "code",
      "metadata": {
        "id": "XmP_ewzA2-6F"
      },
      "source": [
        "y_score_gb = gb_model.predict_proba(X_test)[:,1]\n",
        "y_score_lr = lr_model.predict_proba(X_test)[:,1]\n",
        "y_score_xgb = xgb_model.predict_proba(X_test)[:,1]\n",
        "y_score_rf= rf_model_para.predict_proba(X_test)[:,1]\n",
        "\n"
      ],
      "execution_count": 48,
      "outputs": []
    },
    {
      "cell_type": "code",
      "metadata": {
        "colab": {
          "base_uri": "https://localhost:8080/"
        },
        "id": "iT68sTj27s8j",
        "outputId": "e2e29415-9977-4ec3-e98c-d78a9985f913"
      },
      "source": [
        "false_positive_lr, true_positive_lr, threshold_lr = roc_curve(y_test, y_score_lr)\n",
        "false_positive_gb, true_positive_gb, threshold_gb = roc_curve(y_test, y_score_gb)\n",
        "false_positive_xgb, true_positive_xgb, threshold_xgb = roc_curve(y_test, y_score_xgb)\n",
        "false_positive_rf, true_positive_rf, threshold_rf= roc_curve(y_test, y_score_rf)\n",
        "\n",
        "print('roc_auc_score for Logistic Regressio: ', roc_auc_score(y_test, y_score_lr))\n",
        "print('roc_auc_score for XBoosting: ', roc_auc_score(y_test, y_score_gb))\n",
        "print('roc_auc_score for GXBoosting: ', roc_auc_score(y_test, y_score_xgb))\n",
        "print('roc_auc_score for Random Forest: ', roc_auc_score(y_test, y_score_rf))\n"
      ],
      "execution_count": 52,
      "outputs": [
        {
          "output_type": "stream",
          "name": "stdout",
          "text": [
            "roc_auc_score for Logistic Regressio:  0.6499143190339461\n",
            "roc_auc_score for XBoosting:  0.7319182004911431\n",
            "roc_auc_score for GXBoosting:  0.7239339961731315\n",
            "roc_auc_score for Random Forest:  0.7332489784588653\n"
          ]
        }
      ]
    },
    {
      "cell_type": "code",
      "metadata": {
        "colab": {
          "base_uri": "https://localhost:8080/",
          "height": 627
        },
        "id": "NMxoGtlk8Oie",
        "outputId": "5f77e5ee-e77a-4a79-e46d-2be90b1dbde2"
      },
      "source": [
        "    plt.subplots(1, figsize=(10,10))\n",
        "    plt.title('ROC Curve')\n",
        "    plt.plot(false_positive_lr, true_positive_lr)\n",
        "    plt.plot(false_positive_gb, true_positive_gb)\n",
        "    plt.plot(false_positive_xgb, true_positive_xgb)\n",
        "    plt.plot(false_positive_rf, true_positive_rf)\n",
        "    plt.plot([0, 1], ls=\"--\")\n",
        "    plt.plot([0, 0], [1, 0] , c=\".7\"), plt.plot([1, 1] , c=\".7\")\n",
        "    plt.ylabel('True Positive Rate')\n",
        "    plt.xlabel('False Positive Rate')\n",
        "    plt.legend(['Logistic Regresstion','Gradient Boosting','XGBoosting','Random Forest'],loc=\"upper left\")\n",
        "    plt.show()\n",
        "\n",
        "  "
      ],
      "execution_count": 59,
      "outputs": [
        {
          "output_type": "display_data",
          "data": {
            "image/png": "[encoded data removed]",
            "text/plain": [
              "<Figure size 720x720 with 1 Axes>"
            ]
          },
          "metadata": {}
        }
      ]
    },
    {
      "cell_type": "markdown",
      "metadata": {
        "id": "1YRDURzZB0un"
      },
      "source": [
        "##Precision-Recall Curve"
      ]
    },
    {
      "cell_type": "code",
      "metadata": {
        "id": "Po2k72UEB621"
      },
      "source": [
        "precision_lr1, recall_lr, _lr = precision_recall_curve(y_test,y_score_lr )\n",
        "precision_gb1, recall_gb, _gb = precision_recall_curve(y_test,y_score_gb )\n",
        "precision_xgb1, recall_xgb, _xgb = precision_recall_curve(y_test,y_score_xgb )\n",
        "precision_rf1, recall_rf, _rf = precision_recall_curve(y_test,y_score_rf)"
      ],
      "execution_count": 69,
      "outputs": []
    },
    {
      "cell_type": "code",
      "metadata": {
        "colab": {
          "base_uri": "https://localhost:8080/",
          "height": 627
        },
        "id": "cr5bLR5D9f_O",
        "outputId": "b991aee0-3e4f-4374-f332-ab9c6962fd46"
      },
      "source": [
        "plt.subplots(1, figsize=(10,10))\n",
        "plt.title('Precision-Recall Curve')\n",
        "plt.plot(precision_lr1, recall_lr)\n",
        "plt.plot(precision_gb1, recall_gb)\n",
        "plt.plot(precision_xgb1, recall_xgb)\n",
        "plt.plot(precision_rf1, recall_rf)\n",
        "plt.plot([0, 1], ls=\"--\")\n",
        "plt.plot([0, 0], [1, 0] , c=\".7\"), plt.plot([1, 1] , c=\".7\")\n",
        "plt.ylabel('Precision')\n",
        "plt.xlabel('Recall')\n",
        "plt.legend(['Logistic Regresstion','Gradient Boosting','XGBoosting','Random Forest'],loc=\"upper left\")\n",
        "plt.show()"
      ],
      "execution_count": 70,
      "outputs": [
        {
          "output_type": "display_data",
          "data": {
            "image/png": "[encoded data removed]",
            "text/plain": [
              "<Figure size 720x720 with 1 Axes>"
            ]
          },
          "metadata": {}
        }
      ]
    },
    {
      "cell_type": "markdown",
      "metadata": {
        "id": "iJRhf67rDiDL"
      },
      "source": [
        "\n",
        "\n",
        "*   From ROC Curve and Precision-Recall curve, the Random Forest model performed best.\n",
        "*   The transaction amount is much more important based on the real world and feature importance table.\n",
        "*   However, these four models can not give a more accurate predictions,either. Here are some reasons: the data is highly imbalanced. Fraud trasactions are too small to make any contributions for fraud detection. Besides, I dropped some variables and removed some rows, which also resulted in bad performance.\n",
        "\n",
        "\n",
        "\n",
        "\n",
        "\n"
      ]
    }
  ]
}